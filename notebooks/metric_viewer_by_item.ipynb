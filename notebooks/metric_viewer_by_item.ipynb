{
 "cells": [
  {
   "cell_type": "code",
   "execution_count": null,
   "metadata": {},
   "outputs": [],
   "source": [
    "data = {'Task001_LiverTumor':\n",
    "        {'101.nii': [\n",
    "            {'slice': {'ax': 'z', 'frame': 505}, 'alg1': '2-CE', 'alg2': 'Focal'},\n",
    "            {'slice': {'ax': 'z', 'frame': 505}, 'alg1': 'Iou', 'alg2': 'Focal'},\n",
    "            {'slice': {'ax': 'z', 'frame': 505}, 'alg1': '2-CE', 'alg2': 'pGDice'},\n",
    "            {'slice': {'ax': 'z', 'frame': 505}, 'alg1': '2-CE', 'alg2': 'pGDice'},\n",
    "        ],\n",
    "            '13.nii': [\n",
    "                {'slice': {'ax': 'x', 'frame': 136}, 'alg1': 'pCE', 'alg2': 'TopK10'},\n",
    "        ],\n",
    "            '108.nii': [\n",
    "                {'slice': {'ax': 'x', 'frame': 176}, 'alg1': 'DiceFocal', 'alg2': 'pGDice'},\n",
    "                {'slice': {'ax': 'z', 'frame': 535}, 'alg1': 'Tversky', 'alg2': 'pGDice'},\n",
    "        ],\n",
    "        }\n",
    "\n",
    "        }\n",
    "root = '../datasets'\n",
    "out_dir = '../out/'\n"
   ]
  },
  {
   "cell_type": "code",
   "execution_count": null,
   "metadata": {},
   "outputs": [],
   "source": [
    "import evalseg\n",
    "evalseg.reload()\n",
    "import glob,os\n",
    "import matplotlib.pyplot as plt\n",
    "for dataset_name in data:\n",
    "    dataset_data=data[dataset_name]\n",
    "    dataset=evalseg.io.NibDataset(f'{root}/{dataset_name}')\n",
    "    for case in dataset_data:\n",
    "        # dataset.load_all_of_case(case)\n",
    "        gto,gto_voxelsize=dataset.get_groundtruth(case)\n",
    "        cto,_=dataset.get_CT(case)\n",
    "\n",
    "        for expr in dataset_data[case]:\n",
    "            ax,frame=expr['slice']['ax'], expr['slice']['frame']\n",
    "            gt, voxelsize = evalseg.geometry.slice(gto, gto_voxelsize, ax,[frame])\n",
    "            ct, _ = evalseg.geometry.slice(cto, None, ax,[frame])\n",
    "            mme = evalseg.metrics.MultiClassMetric(\n",
    "                    evalseg.metrics.MME,\n",
    "                    dataset.num_labels\n",
    "                )\n",
    "            mme.set_reference(gt, voxelsize)\n",
    "            preds={\n",
    "                d:dataset.get_prediction(d, case)[0]\n",
    "                for d in [expr['alg1'],expr['alg2']]\n",
    "            }\n",
    "            preds={\n",
    "                d:evalseg.geometry.slice(preds[d], None, ax, [frame])[0]\n",
    "                for d in preds\n",
    "            }\n",
    "            \n",
    "            ctlbl = f\"{dataset_name.split('_')[1]} {case} {ax}={frame}\"\n",
    "            out_path=f'{out_dir}/item-{dataset_name}-{case}-{ax}-{frame}'\n",
    "            evalseg.ui.multi_plot_2d(ct, gt, preds, spacing=voxelsize, ctlbl= ctlbl, \n",
    "            z_titles= [f'{dataset_name}-{case}-{ax}-{frame}'],dst=f'{out_path}-allct.png',show=False)\n",
    "\n",
    "            mme = evalseg.metrics.MultiClassMetric(evalseg.metrics.MME,dataset.num_labels)\n",
    "            mme.set_reference(gt, voxelsize)\n",
    "            res = mme.evaluate_multi(preds)\n",
    "            evalseg.ui.plot_metric_multi(res, name='',dst=f'{out_path}-metric.png',show=False)\n",
    "            img=evalseg.ui.img.concat(glob.glob(f'{out_path}-[!res]*.png'), out=f'{out_path}-res.png')\n",
    "            [os.remove(f) for f in glob.glob(f'{out_path}-[!res]*.png')]\n",
    "            \n",
    "            fig,ax=plt.subplots(1,1,dpi=400);ax.set_axis_off();ax.imshow(img);plt.show()\n",
    "        \n",
    "    "
   ]
  }
 ],
 "metadata": {
  "kernelspec": {
   "display_name": "Python 3.9.0 64-bit",
   "language": "python",
   "name": "python3"
  },
  "language_info": {
   "codemirror_mode": {
    "name": "ipython",
    "version": 3
   },
   "file_extension": ".py",
   "mimetype": "text/x-python",
   "name": "python",
   "nbconvert_exporter": "python",
   "pygments_lexer": "ipython3",
   "version": "3.9.0"
  },
  "orig_nbformat": 4,
  "vscode": {
   "interpreter": {
    "hash": "11938c6bc6919ae2720b4d5011047913343b08a43b18698fd82dedb0d4417594"
   }
  }
 },
 "nbformat": 4,
 "nbformat_minor": 2
}

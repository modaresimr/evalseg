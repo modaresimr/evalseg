{
 "cells": [
  {
   "cell_type": "code",
   "execution_count": null,
   "metadata": {},
   "outputs": [],
   "source": [
    "data = {'Task001_LiverTumor':\n",
    "        {'101.nii': [\n",
    "            {'slice':{'ax':'z','frame': 505}, 'alg1': '2-CE', 'alg2': 'Focal'},\n",
    "            {'slice':{'ax':'z','frame': 505}, 'alg1': 'Iou' , 'alg2': 'Focal'},\n",
    "            {'slice':{'ax':'z','frame': 505}, 'alg1': '2-CE', 'alg2': 'pGDice'},\n",
    "        ]\n",
    "        }\n",
    "        }\n"
   ]
  }
 ],
 "metadata": {
  "kernelspec": {
   "display_name": "Python 3.8.10 64-bit",
   "language": "python",
   "name": "python3"
  },
  "language_info": {
   "name": "python",
   "version": "3.8.10"
  },
  "orig_nbformat": 4,
  "vscode": {
   "interpreter": {
    "hash": "767d51c1340bd893661ea55ea3124f6de3c7a262a8b4abca0554b478b1e2ff90"
   }
  }
 },
 "nbformat": 4,
 "nbformat_minor": 2
}

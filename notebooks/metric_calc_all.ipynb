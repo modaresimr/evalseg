{
 "cells": [
  {
   "cell_type": "markdown",
   "metadata": {},
   "source": [
    "## Imports"
   ]
  },
  {
   "cell_type": "code",
   "execution_count": null,
   "metadata": {},
   "outputs": [],
   "source": [
    "import evalseg\n",
    "from evalseg.metrics import MME,MultiClassMetric\n",
    "import numpy as np\n",
    "import pandas as pd\n",
    "from ipywidgets import interact, interact_manual, IntSlider\n",
    "import os,glob"
   ]
  },
  {
   "cell_type": "markdown",
   "metadata": {},
   "source": [
    "## Variables"
   ]
  },
  {
   "cell_type": "code",
   "execution_count": null,
   "metadata": {},
   "outputs": [],
   "source": [
    "root_data = '../datasets'\n",
    "only_2d_slice=True\n",
    "out_root='../out'\n",
    "os.makedirs(out_root,exist_ok=True)"
   ]
  },
  {
   "cell_type": "markdown",
   "metadata": {},
   "source": [
    "## Run Metric over all datasets 2D"
   ]
  },
  {
   "cell_type": "code",
   "execution_count": null,
   "metadata": {},
   "outputs": [],
   "source": [
    "for dataset_name in sorted([d for d in os.listdir(root_data) if os.path.isdir(f'{root_data}/{d}')]):\n",
    "    dataset = evalseg.io.NibDataset(f'{root_data}/{dataset_name}')\n",
    "    for case in sorted(dataset.get_available_ids()):\n",
    "        if len(glob.glob(f'{out_root}/{dataset_name}-{case}-*')) >= (3 if only_2d_slice else 1):\n",
    "            continue\n",
    "        dataset.load_all_of_case(case)\n",
    "        gto, gto_voxelsize = dataset.get_groundtruth(case)\n",
    "        cto, cto_voxelsize = dataset.get_CT(case)\n",
    "        gtmax = (gto.sum(axis=2).sum(axis=1).argmax(), gto.sum(axis=2).sum(axis=0).argmax(), gto.sum(axis=1).sum(axis=0).argmax())\n",
    "\n",
    "        axes = ['x', 'y','z'] if only_2d_slice else ['all']\n",
    "        for ax in axes:\n",
    "            axi = {'all': -1, 'x': 0, 'y': 1, 'z': 2}[ax]\n",
    "            frame = -1 if ax == 'all' else gtmax[axi]\n",
    "            global data, gt, voxelsize\n",
    "            gt, voxelsize = evalseg.geometry.slice(gto, gto_voxelsize, axi, [frame])\n",
    "            ct, _ = evalseg.geometry.slice(cto, None, axi, [frame])\n",
    "            data = {p: evalseg.geometry.slice(dataset.get_prediction(p, case)[0], None, axi, [frame])[0] for p in dataset.get_prediction_methods()}\n",
    "            data = {'GroundTruth': gt, **data}\n",
    "            out_path = f'{out_root}/{dataset_name}-{case}'\n",
    "            if ax != 'all':\n",
    "                out_path = f'{out_path}-{ax}-{frame}'\n",
    "                ctlbl = f\"{dataset_name.split('_')[1]} {case} {ax}={frame}\"\n",
    "                evalseg.ui.multi_plot_2d(ct, gt,  data, spacing=voxelsize,col=6, ctlbl=ctlbl, z_titles=[frame], dst=f'{out_path}-allct.png', show=False)\n",
    "            else:\n",
    "                pass  # TODO\n",
    "            print(out_path)\n",
    "            mme = evalseg.metrics.MultiClassMetric(evalseg.metrics.MME, dataset.num_labels)\n",
    "            mme.set_reference(gt, voxelsize)\n",
    "            res = mme.evaluate_multi(data)\n",
    "            \n",
    "            k = list(res.keys())[0]\n",
    "            res = {'ignore it a': res[k], 'ignore it b': res[k], **res}\n",
    "            evalseg.ui.plot_metric_multi(res, name=dataset_name, dst=f'{out_path}-metric.png', show=False,col=6)\n",
    "\n",
    "            evalseg.ui.img.concat(glob.glob(f'{out_path}*.png'), out=f'{out_path}-res.png')\n",
    "            [os.remove(f) for f in glob.glob(f'{out_path}-[!res]*.png')]\n"
   ]
  }
 ],
 "metadata": {
  "kernelspec": {
   "display_name": "Python 3.9.0 64-bit",
   "language": "python",
   "name": "python3"
  },
  "language_info": {
   "codemirror_mode": {
    "name": "ipython",
    "version": 3
   },
   "file_extension": ".py",
   "mimetype": "text/x-python",
   "name": "python",
   "nbconvert_exporter": "python",
   "pygments_lexer": "ipython3",
   "version": "3.9.0"
  },
  "orig_nbformat": 4,
  "vscode": {
   "interpreter": {
    "hash": "11938c6bc6919ae2720b4d5011047913343b08a43b18698fd82dedb0d4417594"
   }
  }
 },
 "nbformat": 4,
 "nbformat_minor": 2
}

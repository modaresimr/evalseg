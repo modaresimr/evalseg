{
 "cells": [
  {
   "cell_type": "markdown",
   "metadata": {},
   "source": [
    "# Metric Viewer\n",
    "In this notebook we will view the metrics of all predictions"
   ]
  },
  {
   "cell_type": "markdown",
   "metadata": {},
   "source": [
    "## Imports"
   ]
  },
  {
   "cell_type": "code",
   "execution_count": null,
   "metadata": {},
   "outputs": [],
   "source": [
    "import evalseg\n",
    "from evalseg.metrics import MME,MultiClassMetric\n",
    "import numpy as np\n",
    "import pandas as pd\n",
    "from ipywidgets import interact, interact_manual, IntSlider\n",
    "import os"
   ]
  },
  {
   "cell_type": "markdown",
   "metadata": {},
   "source": [
    "## Variables"
   ]
  },
  {
   "cell_type": "code",
   "execution_count": null,
   "metadata": {},
   "outputs": [],
   "source": [
    "root_data = '../datasets'"
   ]
  },
  {
   "cell_type": "markdown",
   "metadata": {},
   "source": [
    "## Run Metric"
   ]
  },
  {
   "cell_type": "code",
   "execution_count": null,
   "metadata": {},
   "outputs": [],
   "source": [
    "@interact\n",
    "def select_dataset(dataset_name=sorted([d for d in os.listdir(root_data) if os.path.isdir(f'{root_data}/{d}')])):\n",
    "    global dataset\n",
    "    evalseg.reload()\n",
    "    dataset = evalseg.io.NibDataset(f'{root_data}/{dataset_name}')\n",
    "\n",
    "    @interact_manual\n",
    "    def select_case(case=sorted(dataset.get_available_ids())):\n",
    "        dataset.load_all_of_case(case)\n",
    "        gto, gto_voxelsize = dataset.get_groundtruth(case)\n",
    "        cto, cto_voxelsize = dataset.get_CT(case)\n",
    "        gtmax = (gto.sum(axis=2).sum(axis=1).argmax(), gto.sum(axis=2).sum(axis=0).argmax(), gto.sum(axis=1).sum(axis=0).argmax())\n",
    "\n",
    "        @interact\n",
    "        def axselect(ax=['z', 'x', 'y', 'all']):\n",
    "            \n",
    "            axi = {'all': -1, 'x': 0, 'y': 1, 'z': 2}[ax]\n",
    "\n",
    "            @interact\n",
    "            def onlyMaxFrame(frame=IntSlider(-1,min=-1,max=-1) if ax=='all' else IntSlider(gtmax[axi], min=0, max=gto.shape[axi]-1)):\n",
    "                global data, gt, voxelsize\n",
    "                gt, voxelsize = evalseg.geometry.slice(gto, gto_voxelsize, axi, [frame])\n",
    "                ct, _ = evalseg.geometry.slice(cto, None, axi, [frame])\n",
    "                data = {p: evalseg.geometry.slice(dataset.get_prediction(p, case)[0], None, axi, [frame])[0] for p in dataset.get_prediction_methods()}\n",
    "                if ax!='all':\n",
    "                    imglbl = f\"{dataset_name.split('_')[1]} {case} {ax}={frame}\"\n",
    "                    evalseg.ui.multi_plot_2d(ct, gt, data, spacing=voxelsize, args={\"imglabel\": imglbl, 'z_titles': [frame]})\n",
    "                else:\n",
    "                    pass #TODO\n",
    "                from evalseg.metrics import MME,MultiClassMetric\n",
    "                mme = MultiClassMetric(MME,dataset.num_labels)\n",
    "                mme.set_reference(gt, voxelsize)\n",
    "                res = mme.evaluate_multi(data)\n",
    "                evalseg.ui.plot_metric_multi(res, name=dataset_name)\n"
   ]
  }
 ],
 "metadata": {
  "kernelspec": {
   "display_name": "Python 3.8.13",
   "language": "python",
   "name": "python3"
  },
  "language_info": {
   "codemirror_mode": {
    "name": "ipython",
    "version": 3
   },
   "file_extension": ".py",
   "mimetype": "text/x-python",
   "name": "python",
   "nbconvert_exporter": "python",
   "pygments_lexer": "ipython3",
   "version": "3.8.13"
  },
  "vscode": {
   "interpreter": {
    "hash": "e90503ecedfe11d553757f50fbee0388d6b293f936dcdf841c9ba99553ba079f"
   }
  }
 },
 "nbformat": 4,
 "nbformat_minor": 2
}

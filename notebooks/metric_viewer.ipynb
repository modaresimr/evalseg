{
 "cells": [
  {
   "cell_type": "markdown",
   "metadata": {},
   "source": [
    "# Metric Viewer\n",
    "In this notebook we will view the metrics of all predictions"
   ]
  },
  {
   "cell_type": "markdown",
   "metadata": {},
   "source": [
    "## Imports"
   ]
  },
  {
   "cell_type": "code",
   "execution_count": null,
   "metadata": {},
   "outputs": [],
   "source": [
    "import evalseg\n",
    "from evalseg.metrics import MME,MultiClassMetric\n",
    "import numpy as np\n",
    "import pandas as pd\n",
    "from ipywidgets import interact, interact_manual, IntSlider\n",
    "import os"
   ]
  },
  {
   "cell_type": "markdown",
   "metadata": {},
   "source": [
    "## Variables"
   ]
  },
  {
   "cell_type": "code",
   "execution_count": null,
   "metadata": {},
   "outputs": [],
   "source": [
    "root_data = '../datasets'"
   ]
  },
  {
   "cell_type": "markdown",
   "metadata": {},
   "source": [
    "## Run Metric"
   ]
  },
  {
   "cell_type": "code",
   "execution_count": null,
   "metadata": {},
   "outputs": [],
   "source": [
    "@interact\n",
    "def select_dataset(dataset_name=sorted([d for d in os.listdir(root_data) if os.path.isdir(f'{root_data}/{d}')])):\n",
    "    global dataset\n",
    "    evalseg.reload()\n",
    "    dataset = evalseg.io.NibDataset(f'{root_data}/{dataset_name}')\n",
    "\n",
    "    @interact_manual\n",
    "    def select_case(case=sorted(dataset.get_available_ids())):\n",
    "        dataset.load_all_of_case(case)\n",
    "        gto, gto_voxelsize = dataset.get_groundtruth(case)\n",
    "        cto, cto_voxelsize = dataset.get_CT(case)\n",
    "        gtmax = (gto.sum(axis=2).sum(axis=1).argmax(), gto.sum(axis=2).sum(axis=0).argmax(), gto.sum(axis=1).sum(axis=0).argmax())\n",
    "\n",
    "        @interact\n",
    "        def axselect(ax=['all','z', 'x', 'y']):\n",
    "            axi = {'all': -1, 'x': 0, 'y': 1, 'z': 2}[ax]\n",
    "            @interact\n",
    "            def onlyMaxFrame(frame=IntSlider(-1,min=-1,max=-1) if ax=='all' else IntSlider(gtmax[axi], min=0, max=gto.shape[axi]-1)):\n",
    "                global data, gt,ct, voxelsize\n",
    "                gt, voxelsize = evalseg.geometry.slice(gto, gto_voxelsize, axi, [frame])\n",
    "                ct, _ = evalseg.geometry.slice(cto, None, axi, [frame])\n",
    "                data = {p: evalseg.geometry.slice(dataset.get_prediction(p, case)[0], None, axi, [frame])[0] for p in dataset.get_prediction_methods()}\n",
    "                ctlbl = f\"{dataset_name.split('_')[1]} {case}\"\n",
    "                if ax!='all':\n",
    "                    ctlbl = f\"{ctlbl} {ax}={frame}\"\n",
    "                    evalseg.ui.multi_plot_2d(ct, gt, data, spacing=voxelsize, ctlbl= ctlbl, z_titles= [frame])\n",
    "                else:\n",
    "                    return\n",
    "                    # evalseg.ui3d.multi_plot_3d(ct, gt, data, spacing=voxelsize, ctlbl= ctlbl, z_titles= [frame])\n",
    "                    pass #TODO\n",
    "                mme = evalseg.metrics.MultiClassMetric(evalseg.metrics.MME,dataset.num_labels)\n",
    "                mme.set_reference(gt, voxelsize)\n",
    "                res = mme.evaluate_multi(data)\n",
    "                evalseg.ui.plot_metric_multi(res, name=dataset_name)\n"
   ]
  },
  {
   "cell_type": "code",
   "execution_count": null,
   "metadata": {},
   "outputs": [],
   "source": [
    "mme = evalseg.metrics.MultiClassMetric(evalseg.metrics.MME,dataset.num_labels)\n",
    "mme.set_reference(gt, voxelsize)"
   ]
  },
  {
   "cell_type": "code",
   "execution_count": null,
   "metadata": {
    "scrolled": false
   },
   "outputs": [],
   "source": [
    "evalseg.reload()\n",
    "\n",
    "multi_plot=evalseg.ui3d.plot_3d(ct, gt, \n",
    "        data['WCE'],\n",
    "         spacing=voxelsize,zoom2segments=0,scaledown=(1,1,1),\n",
    "         show_ct=False,\n",
    "         show_gt=0,\n",
    "         show_pred=1\n",
    "         )\n",
    "\n",
    "# evalseg.ui3d.multi_plot_3d(None, gt, {'CE':data['CE']}, spacing=voxelsize)"
   ]
  },
  {
   "cell_type": "code",
   "execution_count": null,
   "metadata": {},
   "outputs": [],
   "source": [
    "ct.shape"
   ]
  },
  {
   "cell_type": "code",
   "execution_count": null,
   "metadata": {},
   "outputs": [],
   "source": [
    "multi_plot.sync_camera_view()\n",
    "# for i,plot in enumerate(multi_plot.plots):\n",
    "    # if i>0:\n",
    "    #     plot.camera_fov=30\n",
    "multi_plot.remove_colorbar()\n",
    "multi_plot.plots[0].camera_fov=30\n",
    "multi_plot.plots[0].camera=b[0]"
   ]
  },
  {
   "cell_type": "code",
   "execution_count": null,
   "metadata": {},
   "outputs": [],
   "source": [
    "multi_plot.plots[0]"
   ]
  },
  {
   "cell_type": "code",
   "execution_count": null,
   "metadata": {},
   "outputs": [],
   "source": [
    "# multi_plot.plots[0].clipping_planes=[[1,0,0,-100],[-1,0,0,150],[0,1,0,-100],[0,0,1,-90]]\n",
    "multi_plot.plots[2].clipping_planes=[[0, -1, 0, 50], [0, 0, -1, 95], [1, 0, 0, -50], [-1, 0, 0, 90]]"
   ]
  },
  {
   "cell_type": "code",
   "execution_count": null,
   "metadata": {},
   "outputs": [],
   "source": []
  },
  {
   "cell_type": "code",
   "execution_count": null,
   "metadata": {},
   "outputs": [],
   "source": [
    "b=[p.camera for p in multi_plot.plots]"
   ]
  },
  {
   "cell_type": "code",
   "execution_count": null,
   "metadata": {},
   "outputs": [],
   "source": [
    "multi_plot.plots[2].camera=b[0]"
   ]
  },
  {
   "cell_type": "code",
   "execution_count": null,
   "metadata": {},
   "outputs": [],
   "source": [
    "plt=multi_plot.plots[2]\n",
    "plt.clipping_planes=[[1,0,0,-100],[-1,0,0,150],[0,1,0,-50],[0,0,1,-100]]"
   ]
  },
  {
   "cell_type": "code",
   "execution_count": null,
   "metadata": {},
   "outputs": [],
   "source": [
    "import k3d\n",
    "ct=cto.copy()\n",
    "ct_bounds = [0, ct.shape[0], 0, ct.shape[1], 0, ct.shape[2]]\n",
    "ct[ct>400]=0\n",
    "ct[gt>0]=500\n",
    "plot_ct = k3d.plot(grid=ct_bounds,  grid_auto_fit=False, camera_auto_fit=0)\n",
    "plot_ct.display()\n",
    "plot_ct += k3d.volume(ct.astype(np.float32),\n",
    "        #                       alpha_coef=100,\n",
    "                              color_map=k3d.colormaps.matplotlib_color_maps.Turbo,\n",
    "        #                       #   color_map=k3d.colormaps.paraview_color_maps.Nic_Edge,\n",
    "        #                       #   color_map=k3d.colormaps.matplotlib_color_maps.gist_rainbow,\n",
    "                              scaling=voxelsize,\n",
    "                              color_range=[100, 400],\n",
    "                              bounds=ct_bounds,\n",
    "        #                       #   gradient_step=1,\n",
    "                              name='ct')"
   ]
  },
  {
   "cell_type": "code",
   "execution_count": null,
   "metadata": {},
   "outputs": [],
   "source": [
    "import k3d\n",
    "evalseg.reload()\n",
    "plot = k3d.plot()\n",
    "\n",
    "cube_1 = evalseg.ui3d.k3d_tools.Cube([10, 20, 30], size=[10,20,30]).mesh\n",
    "cube_1.wireframe=True\n",
    "plot += cube_1\n",
    "\n",
    "plot.display()\n"
   ]
  }
 ],
 "metadata": {
  "kernelspec": {
   "display_name": "Python 3 (ipykernel)",
   "language": "python",
   "name": "python3"
  },
  "language_info": {
   "codemirror_mode": {
    "name": "ipython",
    "version": 3
   },
   "file_extension": ".py",
   "mimetype": "text/x-python",
   "name": "python",
   "nbconvert_exporter": "python",
   "pygments_lexer": "ipython3",
   "version": "3.9.0"
  },
  "vscode": {
   "interpreter": {
    "hash": "11938c6bc6919ae2720b4d5011047913343b08a43b18698fd82dedb0d4417594"
   }
  }
 },
 "nbformat": 4,
 "nbformat_minor": 2
}

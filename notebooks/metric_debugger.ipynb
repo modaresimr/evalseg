{
 "cells": [
  {
   "cell_type": "markdown",
   "metadata": {},
   "source": [
    "## Imports"
   ]
  },
  {
   "cell_type": "code",
   "execution_count": null,
   "metadata": {},
   "outputs": [],
   "source": [
    "import evalseg\n",
    "\n",
    "import numpy as np\n",
    "import pandas as pd\n",
    "from ipywidgets import interact,interact_manual, IntSlider\n",
    "import os"
   ]
  },
  {
   "cell_type": "markdown",
   "metadata": {},
   "source": [
    "## Variables"
   ]
  },
  {
   "cell_type": "code",
   "execution_count": null,
   "metadata": {},
   "outputs": [],
   "source": [
    "root_data='../datasets'"
   ]
  },
  {
   "cell_type": "markdown",
   "metadata": {},
   "source": [
    "## Run Metric"
   ]
  },
  {
   "cell_type": "code",
   "execution_count": null,
   "metadata": {},
   "outputs": [],
   "source": [
    "# evalseg.reload()\n",
    "\n",
    "\n",
    "@interact\n",
    "def select_dataset(dataset_name=sorted([d for d in os.listdir(root_data) if os.path.isdir(f'{root_data}/{d}')])):\n",
    "    global dataset\n",
    "\n",
    "    dataset = evalseg.io.NibDataset(f'{root_data}/{dataset_name}')\n",
    "\n",
    "    @interact_manual\n",
    "    def select_case(case=sorted(dataset.get_available_ids())):\n",
    "        \n",
    "        gto, gto_voxelsize = dataset.get_groundtruth(case)\n",
    "        cto, cto_voxelsize = dataset.get_CT(case)\n",
    "\n",
    "        @interact\n",
    "        def ax_select(ax=['z', 'x', 'y', 'all']):\n",
    "            \n",
    "            gtmax = (gto.sum(axis=2).sum(axis=1).argmax(), gto.sum(axis=2).sum(axis=0).argmax(), gto.sum(axis=1).sum(axis=0).argmax())\n",
    "            axi = {'all': -1, 'x': 0, 'y': 1, 'z': 2}[ax]\n",
    "\n",
    "            @interact\n",
    "            def onlyMaxFrame(frame=IntSlider(-1, min=-1, max=-1) if ax == 'all' else IntSlider(gtmax[axi], min=0, max=gto.shape[axi]-1)):\n",
    "                global data, gt, voxelsize\n",
    "                evalseg.reload()\n",
    "                gt, voxelsize = evalseg.geometry.slice(gto, gto_voxelsize, axi, [frame])\n",
    "                ct, _ = evalseg.geometry.slice(cto, None, axi, [frame])\n",
    "                mme = evalseg.metrics.MultiClassMetric(\n",
    "                    evalseg.metrics.MME,\n",
    "                    dataset.num_labels,\n",
    "                    debug={'U': 1, 'B': 1, 'T':1,'R':1,'D': 1, 'UI': 1}\n",
    "                )\n",
    "                mme.set_reference(gt, voxelsize)\n",
    "\n",
    "                @interact\n",
    "                def pred_selec(prediction=dataset.get_prediction_methods()):\n",
    "                    global pred\n",
    "                    pred, _ = dataset.get_prediction(prediction, case)\n",
    "                    pred, _ = evalseg.geometry.slice(pred, None, axi, [frame])\n",
    "                    if ax != 'all':\n",
    "                        ctlbl = f\"{dataset_name.split('_')[1]} {case} {ax}={frame}\"\n",
    "                        comps = mme.metrics[1].helper['components']\n",
    "                        gt2 = gt.copy()\n",
    "                        for c in comps:\n",
    "                            gt2 = gt2 & ~ comps[c]['gt_skeleton']\n",
    "                        evalseg.ui.multi_plot_2d(ct, gt2, {prediction: pred}, spacing=voxelsize, ctlbl=ctlbl, z_titles=[frame], crop2roi=0)\n",
    "                    else:\n",
    "                        pass  # TODO\n",
    "\n",
    "                    res = mme.evaluate(pred, parallel=0)\n",
    "                    evalseg.ui.plot_metric(res, name=dataset_name)\n"
   ]
  },
  {
   "cell_type": "code",
   "execution_count": null,
   "metadata": {},
   "outputs": [],
   "source": [
    "evalseg.reload()\n",
    "mme = evalseg.metrics.MultiClassMetric(\n",
    "                    evalseg.metrics.MME,\n",
    "                    dataset.num_labels,\n",
    "                    debug={'U':1,'B':1,'D':1,'UI':1}\n",
    "                    )\n",
    "mme.set_reference(gt, voxelsize)\n",
    "\n",
    "res=mme.evaluate(pred,parallel=0)\n",
    "evalseg.ui.plot_metric(res)"
   ]
  }
 ],
 "metadata": {
  "kernelspec": {
   "display_name": "Python 3.9.0 64-bit",
   "language": "python",
   "name": "python3"
  },
  "language_info": {
   "codemirror_mode": {
    "name": "ipython",
    "version": 3
   },
   "file_extension": ".py",
   "mimetype": "text/x-python",
   "name": "python",
   "nbconvert_exporter": "python",
   "pygments_lexer": "ipython3",
   "version": "3.9.0"
  },
  "vscode": {
   "interpreter": {
    "hash": "11938c6bc6919ae2720b4d5011047913343b08a43b18698fd82dedb0d4417594"
   }
  }
 },
 "nbformat": 4,
 "nbformat_minor": 4
}

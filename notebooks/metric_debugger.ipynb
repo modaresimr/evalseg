{
 "cells": [
  {
   "cell_type": "markdown",
   "metadata": {},
   "source": [
    "## Imports"
   ]
  },
  {
   "cell_type": "code",
   "execution_count": 1,
   "metadata": {},
   "outputs": [],
   "source": [
    "import evalseg\n",
    "\n",
    "import numpy as np\n",
    "import pandas as pd\n",
    "from ipywidgets import interact,interact_manual, IntSlider\n",
    "import os"
   ]
  },
  {
   "cell_type": "markdown",
   "metadata": {},
   "source": [
    "## Variables"
   ]
  },
  {
   "cell_type": "code",
   "execution_count": 2,
   "metadata": {},
   "outputs": [],
   "source": [
    "root_data='../datasets'"
   ]
  },
  {
   "cell_type": "markdown",
   "metadata": {},
   "source": [
    "## Run Metric"
   ]
  },
  {
   "cell_type": "code",
   "execution_count": 3,
   "metadata": {},
   "outputs": [
    {
     "data": {
      "application/vnd.jupyter.widget-view+json": {
       "model_id": "aedc09d2963241ff96392e11d4c4c4f4",
       "version_major": 2,
       "version_minor": 0
      },
      "text/plain": [
       "interactive(children=(Dropdown(description='dataset_name', options=('Task001_LiverTumor', 'Task002_Pancreas', …"
      ]
     },
     "metadata": {},
     "output_type": "display_data"
    }
   ],
   "source": [
    "evalseg.reload()\n",
    "\n",
    "\n",
    "@interact\n",
    "def select_dataset(dataset_name=sorted([d for d in os.listdir(root_data) if os.path.isdir(f'{root_data}/{d}')])):\n",
    "    global dataset\n",
    "\n",
    "    dataset = evalseg.io.Dataset(f'{root_data}/{dataset_name}')\n",
    "\n",
    "    @interact\n",
    "    def select_case(case=sorted(dataset.get_available_ids())):\n",
    "        \n",
    "        gto= dataset.get_groundtruth(case)\n",
    "        cto = dataset.get_CT(case)\n",
    "\n",
    "        @interact\n",
    "        def ax_select(ax=['z', 'x', 'y', 'all']):\n",
    "            gto_dense=gto.todense()\n",
    "            gtmax = (gto_dense.sum(axis=2).sum(axis=1).argmax(), gto_dense.sum(axis=2).sum(axis=0).argmax(), gto_dense.sum(axis=1).sum(axis=0).argmax())\n",
    "            axi = {'all': -1, 'x': 0, 'y': 1, 'z': 2}[ax]\n",
    "\n",
    "            @interact\n",
    "            def onlyMaxFrame(frame=IntSlider(-1, min=-1, max=-1) if ax == 'all' else IntSlider(gtmax[axi], min=0, max=gto.shape[axi]-1)):\n",
    "                global data, gt, voxelsize\n",
    "                evalseg.reload()\n",
    "                np.seterr(all='raise')\n",
    "\n",
    "                gt = evalseg.geometry.slice_segment(gto, axi, [frame])\n",
    "                ct = evalseg.geometry.slice_segment(cto, axi, [frame])\n",
    "                mme = evalseg.metrics.MultiClassMetric(\n",
    "                    evalseg.metrics.MME(debug={'U': 1, 'B': 1, 'T':1,'R':1,'D': 1, 'UI': 1}),\n",
    "                    dataset.num_labels,\n",
    "                    debug={'log': 1}\n",
    "                )\n",
    "                mme.set_reference(gt)\n",
    "\n",
    "                @interact\n",
    "                def pred_selec(prediction=dataset.get_prediction_methods(case)):\n",
    "                    global pred\n",
    "                    pred = dataset.get_prediction(prediction, case)\n",
    "                    pred = evalseg.geometry.slice_segment(pred,  axi, [frame])\n",
    "                    if ax != 'all':\n",
    "                        ctlbl = f\"{dataset_name.split('_')[1]} {case} {ax}={frame}\"\n",
    "                        comps = mme.metrics[1].helper['components']\n",
    "                        print(comps)\n",
    "                        gt2 = gt.todense()\n",
    "                        for c in comps:\n",
    "                            gt2 = gt2 & ~ comps[c]['gt_skeleton'].todense()\n",
    "                        evalseg.ui.multi_plot_2d(ct.todense(), gt2, {prediction: pred.todense()}, spacing=gt.voxelsize, ctlbl=ctlbl, z_titles=[frame], crop2roi=0)\n",
    "                    else:\n",
    "                        pass  # TODO\n",
    "                    global debug_info\n",
    "                    res,debug_info = mme.evaluate(pred, parallel=0,return_debug=True)\n",
    "                    evalseg.ui.plot_metric(res, name=dataset_name)\n"
   ]
  },
  {
   "cell_type": "code",
   "execution_count": null,
   "metadata": {},
   "outputs": [
    {
     "data": {
      "application/vnd.jupyter.widget-view+json": {
       "model_id": "d5de0df143fb4ac8b00ddb106922be2e",
       "version_major": 2,
       "version_minor": 0
      },
      "text/plain": [
       "  0%|          | 0/2 [00:00<?, ?it/s]"
      ]
     },
     "metadata": {},
     "output_type": "display_data"
    },
    {
     "data": {
      "text/plain": [
       "{'gt_border': <evalseg.io.segment_array.SegmentArray at 0x2c255943100>,\n",
       " 'gt_skeleton': <evalseg.io.segment_array.SegmentArray at 0x2c255943e50>,\n",
       " 'skgt_normalized_dst_in': <evalseg.io.segment_array.SegmentArray at 0x2c25584de50>,\n",
       " 'skgt_normalized_dst_out': <evalseg.io.segment_array.SegmentArray at 0x2c25584dbb0>}"
      ]
     },
     "execution_count": 43,
     "metadata": {},
     "output_type": "execute_result"
    }
   ],
   "source": [
    "evalseg.reload()\n",
    "mme = evalseg.metrics.MultiClassMetric(\n",
    "                    evalseg.metrics.MME(debug={'U': 1, 'B': 1, 'T':1,'R':1,'D': 1, 'UI': 1}),\n",
    "                    dataset.num_labels,\n",
    "                    debug={'log': 1}\n",
    "                )\n",
    "mme.set_reference(gt)\n",
    "mme.metrics[1].helper['components'][1]"
   ]
  },
  {
   "cell_type": "code",
   "execution_count": null,
   "metadata": {},
   "outputs": [
    {
     "data": {
      "text/plain": [
       "True"
      ]
     },
     "execution_count": 26,
     "metadata": {},
     "output_type": "execute_result"
    }
   ],
   "source": [
    "isinstance(mme.metrics[1].helper['components'][1],Exception)"
   ]
  }
 ],
 "metadata": {
  "kernelspec": {
   "display_name": "Python 3.9.0 64-bit",
   "language": "python",
   "name": "python3"
  },
  "language_info": {
   "codemirror_mode": {
    "name": "ipython",
    "version": 3
   },
   "file_extension": ".py",
   "mimetype": "text/x-python",
   "name": "python",
   "nbconvert_exporter": "python",
   "pygments_lexer": "ipython3",
   "version": "3.9.0"
  },
  "vscode": {
   "interpreter": {
    "hash": "11938c6bc6919ae2720b4d5011047913343b08a43b18698fd82dedb0d4417594"
   }
  }
 },
 "nbformat": 4,
 "nbformat_minor": 4
}

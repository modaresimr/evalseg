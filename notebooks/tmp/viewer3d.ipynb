{
 "cells": [
  {
   "cell_type": "code",
   "execution_count": 5,
   "metadata": {},
   "outputs": [
    {
     "data": {
      "application/vnd.jupyter.widget-view+json": {
       "model_id": "2201c64d1f0447b8ab58f049eb1201b3",
       "version_major": 2,
       "version_minor": 0
      },
      "text/plain": [
       "interactive(children=(Dropdown(description='dataset_name', options=('Task001_LiverTumor', 'Task002_Pancreas', …"
      ]
     },
     "metadata": {},
     "output_type": "display_data"
    }
   ],
   "source": [
    "from ipywidgets import interact,interact_manual,IntSlider\n",
    "import os \n",
    "import pandas as pd\n",
    "from auto_profiler import Profiler\n",
    "import numpy as np\n",
    "root='datasets/alg_out/'\n",
    "root_ct='datasets/ct'\n",
    "root_out='results'\n",
    "import evalseg\n",
    "evalseg.reload()\n",
    "root_data = '../../datasets'\n",
    "@interact\n",
    "def select_dataset(dataset_name=sorted([d for d in os.listdir(root_data) if os.path.isdir(f'{root_data}/{d}')])):\n",
    "    global dataset\n",
    "    evalseg.reload()\n",
    "    dataset = evalseg.io.NibDataset(f'{root_data}/{dataset_name}')\n",
    "\n",
    "    @interact_manual\n",
    "    def select_case(case=sorted(dataset.get_available_ids())):\n",
    "        # dataset.load_all_of_case(case)\n",
    "        global gto,gto_voxelsize,cto\n",
    "        gto, gto_voxelsize = dataset.get_groundtruth(case)\n",
    "        print(gto_voxelsize,gto.shape)\n",
    "        cto, cto_voxelsize = dataset.get_CT(case)\n",
    "        \n",
    "        @interact\n",
    "        def pred_selec(prediction=dataset.get_prediction_methods(case)):\n",
    "            global pro\n",
    "            pro, _ = dataset.get_prediction(prediction, case)\n",
    "            # view(cto,gto,pro,gto_voxelsize,case)\n",
    "                                \n",
    "\n",
    "    \n"
   ]
  },
  {
   "cell_type": "code",
   "execution_count": 10,
   "metadata": {},
   "outputs": [
    {
     "data": {
      "application/vnd.jupyter.widget-view+json": {
       "model_id": "6f13e8d812404d29947b6df3674e5a92",
       "version_major": 2,
       "version_minor": 0
      },
      "text/plain": [
       "Output()"
      ]
     },
     "metadata": {},
     "output_type": "display_data"
    }
   ],
   "source": [
    "view1(cto,gto,pro,gto_voxelsize,'a')"
   ]
  },
  {
   "cell_type": "code",
   "execution_count": 13,
   "metadata": {},
   "outputs": [],
   "source": [
    "!conda install -c conda-forge k3d"
   ]
  },
  {
   "cell_type": "code",
   "execution_count": 3,
   "metadata": {},
   "outputs": [],
   "source": [
    "def view1(ct,gt,pr,spacing,name):\n",
    "    import k3d\n",
    "    hasz=1\n",
    "    plot = k3d.plot(grid=[0, gt.shape[0], 0, gt.shape[1], 0, gt.shape[2]], name=name, grid_auto_fit=False,camera_auto_fit=hasz)\n",
    "    plot.display()\n",
    "    v= k3d.voxels(ct.astype(np.uint8), opacity=0.3, compression_level=9, name='ct', group='ct',scaling=spacing)\n",
    "    v.visible=1\n",
    "    v.outlines=False\n",
    "    plot+=v\n",
    "    \n",
    "    \n",
    "def view(ct,gt,pr,spacing,name):\n",
    "    print('working...')\n",
    "    from mpl_toolkits.mplot3d.art3d import Poly3DCollection\n",
    "    from skimage import measure\n",
    "    import matplotlib.pyplot as plt\n",
    "    image=ct\n",
    "    \n",
    "    threshold=image.min()/3 if image.min()<0 else image.min()+.1\n",
    "    p = image.transpose(2,1,0)\n",
    "    verts, faces, normals, values = measure.marching_cubes(p, threshold)\n",
    "    fig = plt.figure(figsize=(10, 10))\n",
    "    ax = fig.add_subplot(111, projection='3d')\n",
    "    mesh = Poly3DCollection(verts[faces], alpha=0.1)\n",
    "    face_color = [0.5, 0.5, 1]\n",
    "    mesh.set_facecolor(face_color)\n",
    "    ax.add_collection3d(mesh)\n",
    "    ax.set_xlim(0, p.shape[0])\n",
    "    ax.set_ylim(0, p.shape[1])\n",
    "    ax.set_zlim(0, p.shape[2])\n",
    "\n",
    "    plt.show()\n",
    "    \n",
    "# view(ct,gt,pr,voxelsize,name)\n"
   ]
  }
 ],
 "metadata": {
  "kernelspec": {
   "display_name": "Python 3.9.0 64-bit",
   "language": "python",
   "name": "python3"
  },
  "language_info": {
   "codemirror_mode": {
    "name": "ipython",
    "version": 3
   },
   "file_extension": ".py",
   "mimetype": "text/x-python",
   "name": "python",
   "nbconvert_exporter": "python",
   "pygments_lexer": "ipython3",
   "version": "3.9.0"
  },
  "orig_nbformat": 4,
  "vscode": {
   "interpreter": {
    "hash": "11938c6bc6919ae2720b4d5011047913343b08a43b18698fd82dedb0d4417594"
   }
  }
 },
 "nbformat": 4,
 "nbformat_minor": 2
}

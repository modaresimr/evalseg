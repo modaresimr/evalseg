{
 "cells": [
  {
   "cell_type": "code",
   "execution_count": null,
   "metadata": {},
   "outputs": [],
   "source": [
    "import evalseg\n",
    "evalseg.reload()\n",
    "root_data='../datasets'\n",
    "# dataset_name='Task002_Pancreas'\n",
    "# case='370.nii'\n",
    "# ax,frame='z',63\n",
    "# preds_conf={\n",
    "#     'p1': 6,\n",
    "#     'p2': {'x':np.s_[:],'y':np.s_[0:139]},\n",
    "#     'p3': {'x':np.s_[:],'y':np.s_[-314:-1]},\n",
    "# }\n",
    "dataset_name='Task001_LiverTumor'\n",
    "case='394.nii'\n",
    "ax,frame='z',126\n",
    "dataset_name='Task001_LiverTumor'\n",
    "dataset = evalseg.io.Dataset(f'{root_data}/{dataset_name}')\n",
    "gt,gt_voxelsize=dataset.get_groundtruth(case)\n",
    "preds_conf={\n",
    "    'p1': 5,\n",
    "    'p2': {'x':np.s_[-257:-1],'y':np.s_[:]},\n",
    "    'p3': {'x':np.s_[0:234],'y':np.s_[:]}\n",
    "}\n",
    "\n",
    "\n",
    "\n",
    "ct,_=dataset.get_CT(case)\n",
    "gt,gt_voxelsize=dataset.get_groundtruth(case)\n",
    "\n",
    "gt, voxelsize = evalseg.geometry.slice(gt, gt_voxelsize, ax,[frame])\n",
    "ct, _ = evalseg.geometry.slice(ct, None, ax,[frame])\n",
    "mme = evalseg.metrics.MultiClassMetric(evalseg.metrics.MME,dataset.num_labels)\n",
    "mme.set_reference(gt, voxelsize)\n",
    "\n"
   ]
  },
  {
   "cell_type": "code",
   "execution_count": null,
   "metadata": {},
   "outputs": [],
   "source": [
    "from pathlib import Path\n",
    "import os\n",
    "os.path.split(\"/home/user/Downloads/repo/test.txt.gz\")\n",
    "\n"
   ]
  },
  {
   "cell_type": "code",
   "execution_count": null,
   "metadata": {},
   "outputs": [],
   "source": [
    "import evalseg\n",
    "evalseg.reload()\n",
    "root_data='../datasets'\n",
    "dataset_name='Task001_LiverTumor'\n",
    "dataset = evalseg.io.Dataset(f'{root_data}/{dataset_name}')\n",
    "case='174.nii'\n",
    "gt,gt_voxelsize=dataset.get_groundtruth(case)\n",
    "evalseg.io.segment_array.test(gt)\n",
    "# sbs=evalseg.io.Segment(gt)\n",
    "# for p in dataset.get_prediction_methods():\n",
    "for p in ['2-CE']:\n",
    "    pr=dataset.get_prediction(p,case)[0]\n",
    "    print(p)\n",
    "    # sbs=evalseg.io.MultiClassSegment(pr)\n",
    "    evalseg.io.segment_array.test(pr)\n",
    "# import pickle\n",
    "# print('roi',sbs.roi)\n",
    "# id=353,250,130\n",
    "# sbs[id],gt[id]"
   ]
  },
  {
   "cell_type": "code",
   "execution_count": null,
   "metadata": {},
   "outputs": [],
   "source": [
    "root_data='../datasets'\n",
    "dataset_name='Task001_LiverTumor'\n",
    "import glob,os\n",
    "import compress_pickle\n",
    "from tqdm.auto import tqdm\n",
    "import evalseg\n",
    "evalseg.reload()\n",
    "# pbar=tqdm([*glob.glob(f'{root_data}/{dataset_name}/*/*.pkl.gz'),*glob.glob(f'{root_data}/{dataset_name}/Predictions/*/*.pkl.gz')])\n",
    "pbar=tqdm([*glob.glob(f'{root_data}/{dataset_name}/*/*.pkl.gz')])\n",
    "for f in pbar:\n",
    "    pbar.set_postfix({'file':f})\n",
    "    old=compress_pickle.load(f)\n",
    "    ds=evalseg.io.Dataset(f'{root_data}/{dataset_name}')\n",
    "    a,b=os.path.split(f)\n",
    "    \n",
    "    # evalseg.io.segment_array.test(ds.get_groundtruth(b.split('.')[0])[0],old)\n",
    "    # new=evalseg.io.SegmentArray(old.todense(),old.voxelsize)\n",
    "    # compress_pickle.dump(new,f)\n",
    "\n"
   ]
  },
  {
   "cell_type": "code",
   "execution_count": null,
   "metadata": {},
   "outputs": [],
   "source": [
    "import numpy as np\n",
    "arr=np.ones((10,130,1000),bool)\n",
    "arr.sum()>arr.size/2"
   ]
  },
  {
   "cell_type": "code",
   "execution_count": null,
   "metadata": {},
   "outputs": [],
   "source": [
    "pr.sum(),sbs.todense().sum()"
   ]
  },
  {
   "cell_type": "code",
   "execution_count": null,
   "metadata": {},
   "outputs": [],
   "source": [
    "import numpy as np\n",
    "import cc3d\n",
    "evalseg.reload()\n",
    "labels, seg_count = evalseg.geometry.connected_components(np.array([[[1,1,1,1,1,0]]]), return_N=True)\n",
    "# labels, seg_count = cc3d.connected_components(np.ones((512,512,512)), return_N=True)\n",
    "labels"
   ]
  },
  {
   "cell_type": "code",
   "execution_count": null,
   "metadata": {},
   "outputs": [],
   "source": [
    "evalseg.reload()\n",
    "# pr=dataset.get_prediction('WCE',case)\n",
    "sbs=evalseg.io.Segment(pr[0],pr[1])\n",
    "len(pickle.dumps(sbs)),len(pickle.dumps(pr))"
   ]
  },
  {
   "cell_type": "code",
   "execution_count": null,
   "metadata": {},
   "outputs": [],
   "source": [
    "def test():\n",
    "    import numpy as np\n",
    "    import cc3d\n",
    "    arr=np.zeros((512,512,680))\n",
    "    arr[100:200,100:200,100:200]=1\n",
    "    arr[300:400,100:200,300:400]=1\n",
    "    \n",
    "    labels,count=cc3d.connected_components(arr,return_N=True)\n",
    "    return labels,count"
   ]
  },
  {
   "cell_type": "code",
   "execution_count": null,
   "metadata": {},
   "outputs": [],
   "source": [
    "\n",
    "\n",
    "import multiprocessing\n",
    "pool=multiprocessing.Pool(3)\n",
    "pool.map(test,range(1000))\n",
    "\n"
   ]
  },
  {
   "cell_type": "code",
   "execution_count": null,
   "metadata": {},
   "outputs": [],
   "source": []
  },
  {
   "cell_type": "code",
   "execution_count": null,
   "metadata": {},
   "outputs": [],
   "source": [
    "sbs=SingleBinarySegment(gt)\n",
    "print('roi',sbs)\n",
    "idx=np.s_[197:200,323:325,0:200]\n",
    "sbs[sbs.roi].shape,gt[sbs.roi].shape"
   ]
  },
  {
   "cell_type": "code",
   "execution_count": null,
   "metadata": {},
   "outputs": [],
   "source": [
    "import multiprocessing\n",
    "multiprocessing.cpu_count()\n",
    "pool = multiprocessing.Pool(8, maxtasksperchild=20)\n",
    "# if __name__ == '__main__':\n",
    "\n",
    "result = pool.imap(evalseg.metrics.test, range(10))\n",
    "print([r for r in result])"
   ]
  },
  {
   "cell_type": "code",
   "execution_count": null,
   "metadata": {},
   "outputs": [],
   "source": [
    "from multiprocessing import Pool\n",
    "\n",
    "def f(x):\n",
    "    return x**2\n",
    "\n",
    "if __name__ == '__main__':\n",
    "    pool = Pool(4)\n",
    "    for res in pool.map(f,range(20)):\n",
    "        print(res)\n"
   ]
  },
  {
   "cell_type": "code",
   "execution_count": null,
   "metadata": {},
   "outputs": [],
   "source": [
    "# preds={d:dataset.get(d, case)[0]for d in ['GroundTruth']}\n",
    "# preds={d:evalseg.geometry.slice(preds[d], None, ax, [frame])[0]for d in preds}\n",
    "preds_conf={\n",
    "    'p1': 5,\n",
    "    'p2': {'x':np.s_[-257:-1],'y':np.s_[:]},\n",
    "    'p3': {'x':np.s_[0:234],'y':np.s_[:]}\n",
    "}\n",
    "\n",
    "pred=gt\n",
    "for i in range(preds_conf['p1']):\n",
    "    border=evalseg.geometry.find_binary_boundary(pred,mode='thick')\n",
    "    pred=pred&~border\n",
    "\n",
    "pred2=gt.copy()\n",
    "\n",
    "pred2[preds_conf['p2']['x'],preds_conf['p2']['y']]=0\n",
    "\n",
    "\n",
    "pred3=gt.copy()\n",
    "pred3[preds_conf['p3']['x'],preds_conf['p3']['y']]=0\n",
    "\n",
    "\n",
    "preds={'p1':pred,'p2':pred2,'p3':pred3}\n",
    "evalseg.reload()\n",
    "ctlbl = f\"{dataset_name.split('_')[1]} {case} {ax}={frame}\"\n",
    "evalseg.ui.multi_plot_2d(ct, gt, preds, spacing=voxelsize, ctlbl= ctlbl, z_titles= [ctlbl],col=6)\n",
    "res = mme.evaluate_multi(preds,parallel=0)\n",
    "evalseg.ui.plot_metric_multi(res, name='',show_table=1)\n"
   ]
  },
  {
   "cell_type": "code",
   "execution_count": null,
   "metadata": {},
   "outputs": [],
   "source": [
    "import nibabel as nib\n",
    "import numpy as np\n",
    "\n",
    "import os\n",
    "data=nib.load(f'C:/Users/Ali/Documents/datasets/All-GT - Copy/{dataset_name}/GroundTruth/{case}.gz')\n",
    "new_gt = nib.Nifti1Image(gt, data.affine, data.header)\n",
    "nib.save(new_gt,f'{root_data}/TaskA_Example/GroundTruth/{case}.gz')\n",
    "\n",
    "new_ct = nib.Nifti1Image(ct, data.affine, data.header)\n",
    "nib.save(new_ct,f'{root_data}/TaskA_Example/CT/{case}.gz')\n",
    "\n",
    "for pred in preds:\n",
    "    dir=f'{root_data}/TaskA_Example/Predictions/{pred}/'\n",
    "    os.makedirs(dir,exist_ok=True)\n",
    "    new_pred = nib.Nifti1Image(preds[pred], data.affine, data.header)\n",
    "    nib.save(new_pred,f'{dir}/{case}.gz')"
   ]
  }
 ],
 "metadata": {
  "kernelspec": {
   "display_name": "Python 3.9.0 64-bit",
   "language": "python",
   "name": "python3"
  },
  "language_info": {
   "codemirror_mode": {
    "name": "ipython",
    "version": 3
   },
   "file_extension": ".py",
   "mimetype": "text/x-python",
   "name": "python",
   "nbconvert_exporter": "python",
   "pygments_lexer": "ipython3",
   "version": "3.9.0"
  },
  "orig_nbformat": 4,
  "vscode": {
   "interpreter": {
    "hash": "11938c6bc6919ae2720b4d5011047913343b08a43b18698fd82dedb0d4417594"
   }
  }
 },
 "nbformat": 4,
 "nbformat_minor": 2
}
